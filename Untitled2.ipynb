{
 "cells": [
  {
   "cell_type": "code",
   "execution_count": 5,
   "id": "a8afd53b",
   "metadata": {},
   "outputs": [
    {
     "name": "stdout",
     "output_type": "stream",
     "text": [
      "[{'weight': [0.13436424411240122, 0.8474337369372327, 0.763774618976614]}]\n",
      "[{'weight': [0.2550690257394217, 0.49543508709194095]}, {'weight': [0.4494910647887381, 0.651592972722763]}]\n"
     ]
    }
   ],
   "source": [
    "from random import seed\n",
    "from random import random\n",
    "\n",
    "#initialize the network\n",
    "\n",
    "def network_initialize(n_input,n_hidden,n_output):\n",
    "    network=list()\n",
    "    hidden_layer=[{'weight':[random() for i in range(n_input+1)]}for i in range(n_hidden)]\n",
    "    network.append(hidden_layer)\n",
    "    output_layer=[{'weight':[random() for i in range(n_hidden+1)]}for i in range(n_output)]\n",
    "    network.append(output_layer)\n",
    "    return network\n",
    "\n",
    "seed(1)\n",
    "network=network_initialize(2,1,2)\n",
    "for layer in network:\n",
    "    print(layer)"
   ]
  },
  {
   "cell_type": "code",
   "execution_count": 8,
   "id": "52c6c915",
   "metadata": {},
   "outputs": [
    {
     "name": "stdout",
     "output_type": "stream",
     "text": [
      "[{'weight': [0.13436424411240122, 0.8474337369372327, 0.763774618976614]}]\n",
      "[{'weight': [0.2550690257394217, 0.49543508709194095]}, {'weight': [0.4494910647887381, 0.651592972722763]}]\n"
     ]
    }
   ],
   "source": [
    "from random import seed \n",
    "from random import random\n",
    "\n",
    "def network_initialize(n_input,n_hidden,n_output):\n",
    "    network=list()\n",
    "    hidden_layer=[{'weights':[random() for i in range(n_input+1)]}for i in range(n_hidden)]\n",
    "    network.append(hidden_layer)\n",
    "    output_layer=[{'weights':[random() for i in range(n_hidden+1)]}for i in range(n_output)]\n",
    "    network.append(output_layer)\n",
    "    return network\n",
    "\n",
    "seed(1)\n",
    "network=network_initialize(2,1,2)\n",
    "for layer in network:\n",
    "    print(layer)"
   ]
  },
  {
   "cell_type": "code",
   "execution_count": 17,
   "id": "e44a3d6e",
   "metadata": {},
   "outputs": [
    {
     "name": "stdout",
     "output_type": "stream",
     "text": [
      "[1, 0, None]\n"
     ]
    }
   ],
   "source": [
    "from math import exp\n",
    "\n",
    "#actication\n",
    "def activate(weights,inputs):\n",
    "    activation=weights[-1]\n",
    "    for i in range(len(weights)-1):\n",
    "        activation+=weights[i]*inputs[i]\n",
    "        return activation \n",
    "    \n",
    "#neuron transsfer\n",
    "\n",
    "def transfer(activation):\n",
    "    return 1.0/(1.0+exp(-activation))\n",
    "\n",
    "#forward propagation\n",
    "\n",
    "def forward_propogate(network,row):\n",
    "    inputs=row\n",
    "    for layer in network:\n",
    "        new_inputs=[]\n",
    "        for neuron in layer:\n",
    "            activation=activate(neuron['weights'],inputs)\n",
    "            neuron['output']=transfer(activation)\n",
    "            new_inputs.append(neuron['output'])\n",
    "            input=new_inputs\n",
    "    return inputs\n",
    "        \n",
    "        \n",
    "network=[[{'weights': [0.13436424411240122, 0.8474337369372327, 0.763774618976614]}],\n",
    "[{'weights': [0.2550690257394217, 0.49543508709194095]}, {'weights': [0.4494910647887381, 0.651592972722763]}]]\n",
    "row=[1,0,None]\n",
    "output=forward_propogate(network,row)\n",
    "print(output)"
   ]
  },
  {
   "cell_type": "code",
   "execution_count": 26,
   "id": "981b7a28",
   "metadata": {},
   "outputs": [
    {
     "name": "stdout",
     "output_type": "stream",
     "text": [
      "[0.6629970129852887, 0.7210355736949032]\n"
     ]
    }
   ],
   "source": [
    "from math import exp\n",
    "def activate(weights,inputs):\n",
    "    activation=weights[-1]\n",
    "    for i in range(len(weights)-1):\n",
    "        activation+=weights[i]*inputs[i]\n",
    "        return activation\n",
    "    \n",
    "def transfer(activation):\n",
    "    return 1.0/(1.0+exp(-activation))\n",
    "def forward_propagate(network,row):\n",
    "    inputs=row\n",
    "    for layer in network:\n",
    "        new_inputs=[]\n",
    "        for neuron in layer:\n",
    "            activation=activate(neuron['weights'],inputs)\n",
    "            neuron['output']=transfer(activation)\n",
    "            new_inputs.append(neuron['output'])\n",
    "            inputs=new_inputs\n",
    "    return inputs\n",
    "\n",
    "network=[[{'weights': [0.13436424411240122, 0.8474337369372327, 0.763774618976614]}],\n",
    "[{'weights': [0.2550690257394217, 0.49543508709194095]}, {'weights': [0.4494910647887381, 0.651592972722763]}]]\n",
    "row=[1,0,None]\n",
    "output=forward_propagate(network,row)\n",
    "print(output)\n"
   ]
  },
  {
   "cell_type": "code",
   "execution_count": null,
   "id": "86f9a2ea",
   "metadata": {},
   "outputs": [],
   "source": []
  },
  {
   "cell_type": "code",
   "execution_count": null,
   "id": "fad01435",
   "metadata": {},
   "outputs": [],
   "source": []
  }
 ],
 "metadata": {
  "kernelspec": {
   "display_name": "Python 3 (ipykernel)",
   "language": "python",
   "name": "python3"
  },
  "language_info": {
   "codemirror_mode": {
    "name": "ipython",
    "version": 3
   },
   "file_extension": ".py",
   "mimetype": "text/x-python",
   "name": "python",
   "nbconvert_exporter": "python",
   "pygments_lexer": "ipython3",
   "version": "3.11.5"
  }
 },
 "nbformat": 4,
 "nbformat_minor": 5
}
