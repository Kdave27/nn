{
 "cells": [
  {
   "cell_type": "code",
   "execution_count": 1,
   "id": "858161ce",
   "metadata": {},
   "outputs": [
    {
     "ename": "SyntaxError",
     "evalue": "incomplete input (792478236.py, line 5)",
     "output_type": "error",
     "traceback": [
      "\u001b[1;36m  Cell \u001b[1;32mIn[1], line 5\u001b[1;36m\u001b[0m\n\u001b[1;33m    if activation>=0.0:\u001b[0m\n\u001b[1;37m                       ^\u001b[0m\n\u001b[1;31mSyntaxError\u001b[0m\u001b[1;31m:\u001b[0m incomplete input\n"
     ]
    }
   ],
   "source": [
    "#activation\n",
    "activation=sum(weight*input)+bias\n",
    "\n",
    "#prediction criterion\n",
    "if activation>=0.0:\n",
    "    prediction=1.0\n",
    "else:\n",
    "    prediction=0.0\n",
    "    \n",
    "    \n",
    "#learning/modifying parameters\n",
    "w=w+learning_rate*(expected-predicted)*x"
   ]
  },
  {
   "cell_type": "code",
   "execution_count": 7,
   "id": "77de0fbd",
   "metadata": {},
   "outputs": [
    {
     "name": "stdout",
     "output_type": "stream",
     "text": [
      "Expected=0,Predicted=0\n",
      "Expected=1,Predicted=0\n",
      "Expected=1,Predicted=1\n",
      "Expected=1,Predicted=0\n"
     ]
    }
   ],
   "source": [
    "def predict(row,weights):\n",
    "    activation=weights[0]\n",
    "    for i in range(len(row)-1):\n",
    "        activation+=weights[i+1]*row[i]\n",
    "    if activation>=0.0:\n",
    "        return 1\n",
    "    else:\n",
    "        return 0\n",
    "        \n",
    "        \n",
    "\"\"\"dataset = [[2.7810836,2.550537003,0],\n",
    " [1.465489372,2.362125076,0],\n",
    " [3.396561688,4.400293529,0],\n",
    " [1.38807019,1.850220317,0],\n",
    " [3.06407232,3.005305973,0],\n",
    " [7.627531214,2.759262235,1],\n",
    " [5.332441248,2.088626775,1],\n",
    " [6.922596716,1.77106367,1],\n",
    " [8.675418651,-0.242068655,1],\n",
    " [7.673756466,3.508563011,1]]\"\"\"\n",
    "dataset=[[0,0,0],\n",
    "        [0,1,1],\n",
    "        [1,0,1],\n",
    "        [1,1,1]]\n",
    "weights = [-0.1, 0.20653640140000007, -0.23418117710000003]\n",
    "\n",
    "for row in dataset:\n",
    "    prediction=predict(row,weights)\n",
    "    print(\"Expected=%d,Predicted=%d\"% (row[-1],prediction))\n"
   ]
  },
  {
   "cell_type": "code",
   "execution_count": 14,
   "id": "21bdbf66",
   "metadata": {},
   "outputs": [
    {
     "name": "stdout",
     "output_type": "stream",
     "text": [
      "Expected=0,Predicted=0\n",
      "Expected=0,Predicted=0\n",
      "Expected=0,Predicted=1\n",
      "Expected=1,Predicted=0\n"
     ]
    }
   ],
   "source": [
    "def predict(row,weights):\n",
    "    activation=weights[0]\n",
    "    for i in range(len(row)-1):\n",
    "        activation+=weights[i+1]*row[i]\n",
    "    if activation>=0.0:\n",
    "        return 1\n",
    "    else:\n",
    "        return 0\n",
    "    \n",
    "dataset=[[0,0,0],\n",
    "        [0,1,0],\n",
    "        [1,0,0],\n",
    "        [1,1,1]]\n",
    "weights = [-0.1, 0.20653640140000007, -0.23418117710000003]\n",
    "\n",
    "for row in dataset:\n",
    "    prediction=predict(row,weights)\n",
    "    print(\"Expected=%d,Predicted=%d\"% (row[-1],prediction))"
   ]
  },
  {
   "cell_type": "code",
   "execution_count": 19,
   "id": "33b92815",
   "metadata": {},
   "outputs": [
    {
     "name": "stdout",
     "output_type": "stream",
     "text": [
      "epoch=0, l_rate=0.500, error=2.000\n",
      "epoch=1, l_rate=0.500, error=3.000\n",
      "epoch=2, l_rate=0.500, error=3.000\n",
      "epoch=3, l_rate=0.500, error=2.000\n",
      "epoch=4, l_rate=0.500, error=1.000\n",
      "[-1.5, 1.0, 0.5]\n"
     ]
    }
   ],
   "source": [
    "#predciting weights \n",
    "\n",
    "def predict(row,weights):\n",
    "    activation=weights[0]\n",
    "    for i in range(len(row)-1):\n",
    "        activation+=weights[i+1]*row[i]\n",
    "    if activation>=0.0:\n",
    "        return 1\n",
    "    else:\n",
    "        return 0\n",
    "    \n",
    "    \n",
    "def train_weights(train,l_rate,n_epoch):\n",
    "    weights=[0.0 for i in range(len(train[0]))]\n",
    "    for epoch in range(n_epoch):\n",
    "        sum_error=0.0\n",
    "        for row in train:\n",
    "            prediction=predict(row,weights)\n",
    "            error=row[-1]-prediction\n",
    "            sum_error+=error**2\n",
    "            weights[0]=weights[0]+l_rate*error\n",
    "            for i in range(len(row)-1):\n",
    "                weights[i+1]=weights[i+1]+l_rate*error*row[i]\n",
    "        print(\"epoch=%d, l_rate=%.3f, error=%.3f\"% (epoch,l_rate,sum_error))\n",
    "    return weights\n",
    "\n",
    "\n",
    "\"\"\"dataset = [[2.7810836,2.550537003,0],\n",
    " [1.465489372,2.362125076,0],\n",
    " [3.396561688,4.400293529,0],\n",
    " [1.38807019,1.850220317,0],\n",
    " [3.06407232,3.005305973,0],\n",
    " [7.627531214,2.759262235,1],\n",
    " [5.332441248,2.088626775,1],\n",
    " [6.922596716,1.77106367,1],\n",
    " [8.675418651,-0.242068655,1],\n",
    " [7.673756466,3.508563011,1]]\"\"\"\n",
    "dataset=[[0,0,0],\n",
    "        [0,1,0],\n",
    "        [1,0,0],\n",
    "        [1,1,1]]\n",
    "\n",
    "l_rate=0.5\n",
    "epoch=5\n",
    "weights=train_weights(dataset,l_rate,epoch)\n",
    "print(weights)"
   ]
  },
  {
   "cell_type": "code",
   "execution_count": 20,
   "id": "cda7b406",
   "metadata": {},
   "outputs": [
    {
     "name": "stdout",
     "output_type": "stream",
     "text": [
      "Expected=0,Predicted=0\n",
      "Expected=0,Predicted=0\n",
      "Expected=0,Predicted=0\n",
      "Expected=1,Predicted=1\n"
     ]
    }
   ],
   "source": [
    "def predict(row,weights):\n",
    "    activation=weights[0]\n",
    "    for i in range(len(row)-1):\n",
    "        activation+=weights[i+1]*row[i]\n",
    "    if activation>=0.0:\n",
    "        return 1\n",
    "    else:\n",
    "        return 0\n",
    "    \n",
    "dataset=[[0,0,0],\n",
    "        [0,1,0],\n",
    "        [1,0,0],\n",
    "        [1,1,1]]\n",
    "weights = [-1.5, 1, 0.5]\n",
    "\n",
    "for row in dataset:\n",
    "    prediction=predict(row,weights)\n",
    "    print(\"Expected=%d,Predicted=%d\"% (row[-1],prediction))"
   ]
  },
  {
   "cell_type": "code",
   "execution_count": 27,
   "id": "8265629f",
   "metadata": {},
   "outputs": [
    {
     "name": "stdout",
     "output_type": "stream",
     "text": [
      "epoch=0,l_rate=0.500,error=2.000\n",
      "epoch=1,l_rate=0.500,error=1.000\n",
      "epoch=2,l_rate=0.500,error=0.000\n",
      "epoch=3,l_rate=0.500,error=0.000\n",
      "epoch=4,l_rate=0.500,error=0.000\n",
      "[-0.5, 1.0326820070000002, -1.1709058855]\n"
     ]
    }
   ],
   "source": [
    "def predict(row,weights):\n",
    "    activation=weights[0]\n",
    "    for i in range(len(row)-1):\n",
    "        activation+=weights[i+1]*row[i]\n",
    "    if activation>=0:\n",
    "        return 1\n",
    "    else:\n",
    "        return 0\n",
    "    \n",
    "def train_weights(train,l_rate,n_epoch):\n",
    "    weights=[0.0 for i in range(len(train[0]))]\n",
    "    for epoch in range(n_epoch):\n",
    "        sum_error=0.0\n",
    "        for row in train:\n",
    "            prediction=predict(row,weights)\n",
    "            error=row[-1]-prediction\n",
    "            sum_error+=error**2\n",
    "            weights[0]=weights[0]+l_rate*error\n",
    "            for i in range(len(row)-1):\n",
    "                weights[i+1]=weights[i+1]+l_rate*error*row[i]\n",
    "        print(\"epoch=%d,l_rate=%.3f,error=%.3f\"% (epoch,l_rate,sum_error))\n",
    "    return weights\n",
    "dataset = [[2.7810836,2.550537003,0],\n",
    " [1.465489372,2.362125076,0],\n",
    " [3.396561688,4.400293529,0],\n",
    " [1.38807019,1.850220317,0],\n",
    " [3.06407232,3.005305973,0],\n",
    " [7.627531214,2.759262235,1],\n",
    " [5.332441248,2.088626775,1],\n",
    " [6.922596716,1.77106367,1],\n",
    " [8.675418651,-0.242068655,1],\n",
    " [7.673756466,3.508563011,1]]\n",
    "l_rate=0.5\n",
    "epoch=5\n",
    "weights=train_weights(dataset,l_rate,epoch)\n",
    "print(weights)\n"
   ]
  },
  {
   "cell_type": "code",
   "execution_count": null,
   "id": "9423b4f3",
   "metadata": {},
   "outputs": [],
   "source": [
    " "
   ]
  }
 ],
 "metadata": {
  "kernelspec": {
   "display_name": "Python 3 (ipykernel)",
   "language": "python",
   "name": "python3"
  },
  "language_info": {
   "codemirror_mode": {
    "name": "ipython",
    "version": 3
   },
   "file_extension": ".py",
   "mimetype": "text/x-python",
   "name": "python",
   "nbconvert_exporter": "python",
   "pygments_lexer": "ipython3",
   "version": "3.11.5"
  }
 },
 "nbformat": 4,
 "nbformat_minor": 5
}
