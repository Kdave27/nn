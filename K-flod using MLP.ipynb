{
 "cells": [
  {
   "cell_type": "code",
   "execution_count": 72,
   "id": "7762a4e5",
   "metadata": {},
   "outputs": [],
   "source": [
    "from numpy import mean,std\n",
    "import numpy as np\n",
    "from sklearn.linear_model import LogisticRegression\n",
    "from sklearn.model_selection import KFold\n",
    "from sklearn.model_selection import cross_val_score\n",
    "from sklearn.datasets import make_classification\n",
    "from sklearn.model_selection import LeaveOneOut\n",
    "from matplotlib import pyplot\n",
    "\n",
    "def get_dataset(n_samples=100):\n",
    "    X, y = make_classification(n_samples=n_samples, n_features=8, n_informative=5, n_redundant=3, random_state=1)\n",
    "    return X, y\n"
   ]
  },
  {
   "cell_type": "code",
   "execution_count": 74,
   "id": "c8ceb8bc",
   "metadata": {},
   "outputs": [
    {
     "name": "stdout",
     "output_type": "stream",
     "text": [
      "Ideal: 0.900\n",
      "> Folds = 2 , accuracy = 0.910 (0.900,0.920)\n",
      "> Folds = 3 , accuracy = 0.900 (0.879,0.912)\n",
      "> Folds = 4 , accuracy = 0.880 (0.800,0.960)\n",
      "> Folds = 5 , accuracy = 0.900 (0.850,1.000)\n",
      "> Folds = 6 , accuracy = 0.890 (0.812,1.000)\n",
      "> Folds = 7 , accuracy = 0.891 (0.800,1.000)\n",
      "> Folds = 8 , accuracy = 0.899 (0.833,1.000)\n",
      "> Folds = 9 , accuracy = 0.920 (0.818,1.000)\n",
      "> Folds = 10 , accuracy = 0.900 (0.700,1.000)\n",
      "> Folds = 11 , accuracy = 0.869 (0.667,1.000)\n",
      "> Folds = 12 , accuracy = 0.892 (0.667,1.000)\n",
      "> Folds = 13 , accuracy = 0.887 (0.625,1.000)\n",
      "> Folds = 14 , accuracy = 0.881 (0.625,1.000)\n",
      "> Folds = 15 , accuracy = 0.897 (0.667,1.000)\n",
      "> Folds = 16 , accuracy = 0.900 (0.667,1.000)\n",
      "> Folds = 17 , accuracy = 0.898 (0.800,1.000)\n",
      "> Folds = 18 , accuracy = 0.896 (0.800,1.000)\n",
      "> Folds = 19 , accuracy = 0.900 (0.800,1.000)\n",
      "> Folds = 20 , accuracy = 0.890 (0.400,1.000)\n",
      "> Folds = 21 , accuracy = 0.888 (0.400,1.000)\n",
      "> Folds = 22 , accuracy = 0.886 (0.400,1.000)\n",
      "> Folds = 23 , accuracy = 0.891 (0.400,1.000)\n",
      "> Folds = 24 , accuracy = 0.892 (0.400,1.000)\n",
      "> Folds = 25 , accuracy = 0.900 (0.750,1.000)\n",
      "> Folds = 26 , accuracy = 0.897 (0.667,1.000)\n",
      "> Folds = 27 , accuracy = 0.895 (0.667,1.000)\n",
      "> Folds = 28 , accuracy = 0.896 (0.667,1.000)\n",
      "> Folds = 29 , accuracy = 0.897 (0.667,1.000)\n",
      "> Folds = 30 , accuracy = 0.900 (0.667,1.000)\n"
     ]
    },
    {
     "data": {
      "image/png": "[encoded data removed]",
      "text/plain": [
       "<Figure size 640x480 with 1 Axes>"
      ]
     },
     "metadata": {},
     "output_type": "display_data"
    }
   ],
   "source": [
    "# create model\n",
    "def get_model():\n",
    "    model = LogisticRegression()\n",
    "    return model \n",
    "\n",
    "# evaluate model\n",
    "def evaluate_model(cv):\n",
    "    X,y = get_dataset()\n",
    "    model = get_model()\n",
    "    scores = cross_val_score(model, X, y, scoring='accuracy', cv=cv, n_jobs=-1)\n",
    "    return mean(scores) , scores.min() , scores.max()\n",
    "\n",
    "# calculate the ideal test condition without LeaveOneOut()\n",
    "ideal, _, _ = evaluate_model(KFold(n_splits = 10,random_state=1,shuffle=True))\n",
    "print('Ideal: %.3f' % ideal)\n",
    "\n",
    "# define folds to test\n",
    "folds = range(2,31)\n",
    "\n",
    "# record mean and min/max of each set of results\n",
    "means, mins, maxs = list(),list(),list()\n",
    "\n",
    "#evaluate each k value\n",
    "for k in folds:\n",
    "    #define the test condation\n",
    "    cv = KFold(n_splits=k , shuffle=True , random_state = 1)\n",
    "    k_mean , k_min , k_max = evaluate_model(cv)\n",
    "    print('> Folds = %d , accuracy = %.3f (%.3f,%.3f)' % (k,k_mean,k_min,k_max))\n",
    "    means.append(k_mean)\n",
    "    mins.append(k_mean - k_min)\n",
    "    maxs.append(k_max - k_mean)\n",
    "    \n",
    "\n",
    "# line plot of k mean values with min/max error bars\n",
    "pyplot.errorbar(folds, means, yerr=[mins, maxs], fmt='o')\n",
    "# plot the ideal case in a separate color\n",
    "pyplot.plot(folds, [ideal for _ in range(len(folds))], color='r')\n",
    "pyplot.show()"
   ]
  }
 ],
 "metadata": {
  "kernelspec": {
   "display_name": "Python 3 (ipykernel)",
   "language": "python",
   "name": "python3"
  },
  "language_info": {
   "codemirror_mode": {
    "name": "ipython",
    "version": 3
   },
   "file_extension": ".py",
   "mimetype": "text/x-python",
   "name": "python",
   "nbconvert_exporter": "python",
   "pygments_lexer": "ipython3",
   "version": "3.11.5"
  }
 },
 "nbformat": 4,
 "nbformat_minor": 5
}
