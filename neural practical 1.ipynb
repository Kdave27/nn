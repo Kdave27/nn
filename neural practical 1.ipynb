{
 "cells": [
  {
   "cell_type": "code",
   "execution_count": null,
   "id": "f6ae4f4f",
   "metadata": {},
   "outputs": [],
   "source": [
    "activation=sum(weight_i*x_i)+bias #activation potential\n",
    "#it is passed to activaion function"
   ]
  },
  {
   "cell_type": "code",
   "execution_count": 1,
   "id": "f73d4606",
   "metadata": {},
   "outputs": [
    {
     "ename": "SyntaxError",
     "evalue": "incomplete input (513954441.py, line 1)",
     "output_type": "error",
     "traceback": [
      "\u001b[1;36m  Cell \u001b[1;32mIn[1], line 1\u001b[1;36m\u001b[0m\n\u001b[1;33m    if activation>=0.0:\u001b[0m\n\u001b[1;37m                       ^\u001b[0m\n\u001b[1;31mSyntaxError\u001b[0m\u001b[1;31m:\u001b[0m incomplete input\n"
     ]
    }
   ],
   "source": [
    "if activation>=0.0:\n",
    "    prediction=1.0\n",
    "else:\n",
    "    prediction=0.0\n",
    "\n",
    "#prediction=1.0 if activation>=0.0 else 0.0\n",
    "#activation potential + activation funtion=neuron/perceptron"
   ]
  },
  {
   "cell_type": "code",
   "execution_count": 2,
   "id": "8455b7ca",
   "metadata": {},
   "outputs": [
    {
     "ename": "NameError",
     "evalue": "name 'w' is not defined",
     "output_type": "error",
     "traceback": [
      "\u001b[1;31m---------------------------------------------------------------------------\u001b[0m",
      "\u001b[1;31mNameError\u001b[0m                                 Traceback (most recent call last)",
      "Cell \u001b[1;32mIn[2], line 2\u001b[0m\n\u001b[0;32m      1\u001b[0m \u001b[38;5;66;03m#learing by modifying weight value/incorporate learning \u001b[39;00m\n\u001b[1;32m----> 2\u001b[0m w\u001b[38;5;241m=\u001b[39mw\u001b[38;5;241m+\u001b[39mlearning_rate\u001b[38;5;241m*\u001b[39m(expected\u001b[38;5;241m-\u001b[39mpredicted)\u001b[38;5;241m*\u001b[39mx\n",
      "\u001b[1;31mNameError\u001b[0m: name 'w' is not defined"
     ]
    }
   ],
   "source": [
    "#learing by modifying weight value/incorporate learning \n",
    "w=w+learning_rate*(expected-predicted)*x\n",
    "#here (expected-predicted) is error\n"
   ]
  },
  {
   "cell_type": "code",
   "execution_count": 29,
   "id": "d457684e",
   "metadata": {},
   "outputs": [],
   "source": [
    "#Make a prediction with weights \n",
    "\"\"\"\"def predict(row,weights):\n",
    "    activation=weights[0] #bias \n",
    "    for i in range(len(row)-1): \n",
    "        activation+=weights[i+1]*row[i] #activation function \n",
    "        if activation>=0:\n",
    "            return 1.0\n",
    "        else:\n",
    "            return 0.0\"\"\"\n",
    "        \n",
    "def predict(row,weights):\n",
    "    activation=weights[0]\n",
    "    for i in range(len(row)-1):\n",
    "        activation+=weights[i+1]*row[i]\n",
    "    return 1.0 if activation>=0.0 else 0.0\n"
   ]
  },
  {
   "cell_type": "code",
   "execution_count": null,
   "id": "4b9c9324",
   "metadata": {},
   "outputs": [],
   "source": [
    "\n"
   ]
  },
  {
   "cell_type": "code",
   "execution_count": null,
   "id": "0f273616",
   "metadata": {},
   "outputs": [],
   "source": []
  },
  {
   "cell_type": "code",
   "execution_count": 16,
   "id": "160d8817",
   "metadata": {},
   "outputs": [],
   "source": [
    "dataset = [[2.7810836,2.550537003,0],\n",
    " [1.465489372,2.362125076,0],\n",
    " [3.396561688,4.400293529,0],\n",
    " [1.38807019,1.850220317,0],\n",
    " [3.06407232,3.005305973,0],\n",
    " [7.627531214,2.759262235,1],\n",
    " [5.332441248,2.088626775,1],\n",
    " [6.922596716,1.77106367,1],\n",
    " [8.675418651,-0.242068655,1],\n",
    " [7.673756466,3.508563011,1]]\n",
    "weights = [-0.1, 0.20653640140000007, -0.23418117710000003]\n"
   ]
  },
  {
   "cell_type": "code",
   "execution_count": null,
   "id": "dfb6c2a2",
   "metadata": {},
   "outputs": [],
   "source": []
  },
  {
   "cell_type": "code",
   "execution_count": null,
   "id": "33c6fb48",
   "metadata": {},
   "outputs": [],
   "source": []
  },
  {
   "cell_type": "code",
   "execution_count": null,
   "id": "b41570ab",
   "metadata": {},
   "outputs": [],
   "source": []
  },
  {
   "cell_type": "code",
   "execution_count": null,
   "id": "8c5b5afc",
   "metadata": {},
   "outputs": [],
   "source": []
  },
  {
   "cell_type": "code",
   "execution_count": 21,
   "id": "58f056ac",
   "metadata": {},
   "outputs": [
    {
     "name": "stdout",
     "output_type": "stream",
     "text": [
      "Expected=0, Predicted=0\n",
      "Expected=0, Predicted=0\n",
      "Expected=0, Predicted=0\n",
      "Expected=0, Predicted=0\n",
      "Expected=0, Predicted=0\n",
      "Expected=1, Predicted=1\n",
      "Expected=1, Predicted=1\n",
      "Expected=1, Predicted=1\n",
      "Expected=1, Predicted=1\n",
      "Expected=1, Predicted=1\n"
     ]
    }
   ],
   "source": [
    "for row in dataset:\n",
    "    prediction=predict(row,weights)\n",
    "    print(\"Expected=%d, Predicted=%d\"% (row[-1],prediction))"
   ]
  },
  {
   "cell_type": "code",
   "execution_count": 40,
   "id": "d91ebbed",
   "metadata": {},
   "outputs": [
    {
     "name": "stdout",
     "output_type": "stream",
     "text": [
      ">epoch=0, l_rate=0.100, error=2.000\n",
      ">epoch=1, l_rate=0.100, error=1.000\n",
      ">epoch=2, l_rate=0.100, error=0.000\n",
      ">epoch=3, l_rate=0.100, error=0.000\n",
      ">epoch=4, l_rate=0.100, error=0.000\n",
      "[-0.1, 0.20653640140000007, -0.23418117710000003]\n"
     ]
    }
   ],
   "source": [
    "#Estimate Perception weights using stochastic gradient descent\n",
    "def predict(row,weights):\n",
    "    activation=weights[0]\n",
    "    for i in range(len(row)-1):\n",
    "        activation+=weights[i+1]*row[i]\n",
    "    return 1.0 if activation>=0.0 else 0.0\n",
    "\n",
    "def train_weights(train,l_rate,n_epoch):\n",
    "    weights=[0.0 for i in range(len(train[0]))]\n",
    "    for epoch in range(n_epoch):\n",
    "        sum_error=0.0\n",
    "        for row in train:\n",
    "            prediction=predict(row,weights)\n",
    "            error=row[-1]-prediction\n",
    "            sum_error+=error**2\n",
    "            weights[0]=weights[0]+l_rate*error\n",
    "            for i in range(len(row)-1):\n",
    "                weights[i+1]=weights[i+1]+l_rate*error*row[i]\n",
    "        print('>epoch=%d, l_rate=%.3f, error=%.3f' % (epoch, l_rate, sum_error))\n",
    "    return weights\n",
    "            \n",
    "dataset = [[2.7810836,2.550537003,0],\n",
    " [1.465489372,2.362125076,0],\n",
    " [3.396561688,4.400293529,0],\n",
    " [1.38807019,1.850220317,0],\n",
    " [3.06407232,3.005305973,0],\n",
    " [7.627531214,2.759262235,1],\n",
    " [5.332441248,2.088626775,1],\n",
    " [6.922596716,1.77106367,1],\n",
    " [8.675418651,-0.242068655,1],\n",
    " [7.673756466,3.508563011,1]]\n",
    "l_rate = 0.1\n",
    "n_epoch = 5\n",
    "weights = train_weights(dataset, l_rate, n_epoch)\n",
    "print(weights)"
   ]
  },
  {
   "cell_type": "code",
   "execution_count": 35,
   "id": "7b96312f",
   "metadata": {},
   "outputs": [
    {
     "name": "stdout",
     "output_type": "stream",
     "text": [
      "Expected=0, Predicted=0\n",
      "Expected=0, Predicted=0\n",
      "Expected=0, Predicted=0\n",
      "Expected=0, Predicted=0\n",
      "Expected=0, Predicted=0\n",
      "Expected=1, Predicted=1\n",
      "Expected=1, Predicted=1\n",
      "Expected=1, Predicted=1\n",
      "Expected=1, Predicted=1\n",
      "Expected=1, Predicted=1\n"
     ]
    }
   ],
   "source": [
    "#code all together\n",
    "#Make a prediction with weights \n",
    "\"\"\"\"def predict(row,weights):\n",
    "    activation=weights[0] #bias \n",
    "    for i in range(len(row)-1): \n",
    "        activation+=weights[i+1]*row[i] #activation function \n",
    "        if activation>=0:\n",
    "            return 1.0\n",
    "        else:\n",
    "            return 0.0\"\"\"\n",
    "        \n",
    "def predict(row,weights):\n",
    "    activation=weights[0]\n",
    "    for i in range(len(row)-1):\n",
    "        activation+=weights[i+1]*row[i]\n",
    "    return 1.0 if activation>=0.0 else 0.0\n",
    "\n",
    "dataset = [[2.7810836,2.550537003,0],\n",
    " [1.465489372,2.362125076,0],\n",
    " [3.396561688,4.400293529,0],\n",
    " [1.38807019,1.850220317,0],\n",
    " [3.06407232,3.005305973,0],\n",
    " [7.627531214,2.759262235,1],\n",
    " [5.332441248,2.088626775,1],\n",
    " [6.922596716,1.77106367,1],\n",
    " [8.675418651,-0.242068655,1],\n",
    " [7.673756466,3.508563011,1]]\n",
    "weights = [-0.1, 0.20653640140000007, -0.23418117710000003]\n",
    "for row in dataset:\n",
    "    prediction=predict(row,weights)\n",
    "    print(\"Expected=%d, Predicted=%d\"% (row[-1],prediction))"
   ]
  },
  {
   "cell_type": "code",
   "execution_count": 5,
   "id": "566a23d1",
   "metadata": {},
   "outputs": [
    {
     "name": "stdout",
     "output_type": "stream",
     "text": [
      "And gate\n",
      ">epoch=0, l_rate=0.100, error=2.000\n",
      ">epoch=1, l_rate=0.100, error=3.000\n",
      ">epoch=2, l_rate=0.100, error=3.000\n",
      ">epoch=3, l_rate=0.100, error=0.000\n",
      ">epoch=4, l_rate=0.100, error=0.000\n",
      "[-0.20000000000000004, 0.2, 0.1]\n",
      "Or gate\n",
      ">epoch=0, l_rate=0.100, error=2.000\n",
      ">epoch=1, l_rate=0.100, error=2.000\n",
      ">epoch=2, l_rate=0.100, error=1.000\n",
      ">epoch=3, l_rate=0.100, error=0.000\n",
      ">epoch=4, l_rate=0.100, error=0.000\n",
      "[-0.1, 0.1, 0.1]\n",
      "xor gate\n",
      ">epoch=0, l_rate=0.100, error=3.000\n",
      ">epoch=1, l_rate=0.100, error=3.000\n",
      ">epoch=2, l_rate=0.100, error=4.000\n",
      ">epoch=3, l_rate=0.100, error=4.000\n",
      ">epoch=4, l_rate=0.100, error=4.000\n",
      "[0.0, -0.1, 0.0]\n"
     ]
    }
   ],
   "source": [
    "\n",
    "def predict(row,weights):\n",
    "    activation=weights[0]\n",
    "    for i in range(len(row)-1):\n",
    "        activation+=weights[i+1]*row[i]\n",
    "    return 1.0 if activation>=0.0 else 0.0\n",
    "\n",
    "def train_weights(train,l_rate,n_epoch):\n",
    "    weights=[0.0 for i in range(len(train[0]))]\n",
    "    for epoch in range(n_epoch):\n",
    "        sum_error=0.0\n",
    "        for row in train:\n",
    "            prediction=predict(row,weights)\n",
    "            error=row[-1]-prediction\n",
    "            sum_error+=error**2\n",
    "            weights[0]=weights[0]+l_rate*error\n",
    "            for i in range(len(row)-1):\n",
    "                weights[i+1]=weights[i+1]+l_rate*error*row[i]\n",
    "        print('>epoch=%d, l_rate=%.3f, error=%.3f' % (epoch, l_rate, sum_error))\n",
    "    return weights\n",
    "#and gate            \n",
    "dataset = [[0,0,0],\n",
    " [0,1,0],\n",
    " [1,0,0],\n",
    " [1,1,1]]\n",
    "#or gate\n",
    "dataset1 = [[0,0,0],\n",
    " [0,1,1],\n",
    " [1,0,1],\n",
    " [1,1,1]]\n",
    "#xor gate\n",
    "dataset2 = [[0,0,0],\n",
    " [0,1,1],\n",
    " [1,0,1],\n",
    " [1,1,0]]\n",
    "l_rate = 0.1\n",
    "n_epoch = 5\n",
    "print(\"And gate\")\n",
    "weights = train_weights(dataset, l_rate, n_epoch)\n",
    "print(weights)\n",
    "\n",
    "print(\"Or gate\")\n",
    "weights1 = train_weights(dataset1, l_rate, n_epoch)\n",
    "print(weights1)\n",
    "\n",
    "print(\"xor gate\")\n",
    "weights2 = train_weights(dataset2, l_rate, n_epoch)\n",
    "print(weights2)"
   ]
  },
  {
   "cell_type": "code",
   "execution_count": 3,
   "id": "af1f036d",
   "metadata": {},
   "outputs": [
    {
     "name": "stdout",
     "output_type": "stream",
     "text": [
      "Expected=0, Predicted=0\n",
      "Expected=0, Predicted=0\n",
      "Expected=0, Predicted=1\n",
      "Expected=1, Predicted=0\n"
     ]
    }
   ],
   "source": [
    "#code all together\n",
    "#Make a prediction with weights \n",
    "\"\"\"\"def predict(row,weights):\n",
    "    activation=weights[0] #bias \n",
    "    for i in range(len(row)-1): \n",
    "        activation+=weights[i+1]*row[i] #activation function \n",
    "        if activation>=0:\n",
    "            return 1.0\n",
    "        else:\n",
    "            return 0.0\"\"\"\n",
    "        \n",
    "def predict(row,weights):\n",
    "    activation=weights[0]\n",
    "    for i in range(len(row)-1):\n",
    "        activation+=weights[i+1]*row[i]\n",
    "    return 1.0 if activation>=0.0 else 0.0\n",
    "\n",
    "#and gate            \n",
    "dataset = [[0,0,0],\n",
    " [0,1,0],\n",
    " [1,0,0],\n",
    " [1,1,1]]\n",
    "weights = [-0.1, 0.20653640140000007, -0.23418117710000003]\n",
    "for row in dataset:\n",
    "    prediction=predict(row,weights)\n",
    "    print(\"Expected=%d, Predicted=%d\"% (row[-1],prediction))"
   ]
  },
  {
   "cell_type": "code",
   "execution_count": null,
   "id": "9fb5e622",
   "metadata": {},
   "outputs": [],
   "source": []
  }
 ],
 "metadata": {
  "kernelspec": {
   "display_name": "Python 3 (ipykernel)",
   "language": "python",
   "name": "python3"
  },
  "language_info": {
   "codemirror_mode": {
    "name": "ipython",
    "version": 3
   },
   "file_extension": ".py",
   "mimetype": "text/x-python",
   "name": "python",
   "nbconvert_exporter": "python",
   "pygments_lexer": "ipython3",
   "version": "3.11.5"
  }
 },
 "nbformat": 4,
 "nbformat_minor": 5
}
