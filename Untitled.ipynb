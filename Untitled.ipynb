{
 "cells": [
  {
   "cell_type": "code",
   "execution_count": null,
   "id": "cd0c5aac",
   "metadata": {},
   "outputs": [],
   "source": [
    "def predict(row,weights):\n",
    "    activation=weights[0]\n",
    "    for i in range(len(row)-1):\n",
    "        activation+=weights[i+1]*row[i]\n",
    "    return 1.0 if activation>=0.0 else 0.0\n",
    "\n",
    "def train_weights(train,l_rate,n_epoch):\n",
    "    weights=[0.0 for i in range(len(train[0]))]\n",
    "    for epoch in range(n_epoch):\n",
    "        sum_error=0.0\n",
    "        for row in train:\n",
    "            prediction=predict(row,weights)\n",
    "            error=row[-1]-prediction\n",
    "            sum_error+=error**2\n",
    "            weights[0]=weights[0]+l_rate*error\n",
    "            for i in range(len(row)-1):\n",
    "                weights[i+1]=weights[i+1]+l_rate*error*row[i]\n",
    "        print('>epoch=%d, l_rate=%.3f, error=%.3f' % (epoch, l_rate, sum_error))\n",
    "    return weights\n",
    "            \n",
    "dataset = [[2.7810836,2.550537003,0],\n",
    " [1.465489372,2.362125076,0],\n",
    " [3.396561688,4.400293529,0],\n",
    " [1.38807019,1.850220317,0],\n",
    " [3.06407232,3.005305973,0],\n",
    " [7.627531214,2.759262235,1],\n",
    " [5.332441248,2.088626775,1],\n",
    " [6.922596716,1.77106367,1],\n",
    " [8.675418651,-0.242068655,1],\n",
    " [7.673756466,3.508563011,1]]\n",
    "l_rate = 0.1\n",
    "n_epoch = 5\n",
    "weights = train_weights(dataset, l_rate, n_epoch)\n",
    "print(weights)"
   ]
  },
  {
   "cell_type": "code",
   "execution_count": 4,
   "id": "0529b7ba",
   "metadata": {},
   "outputs": [
    {
     "name": "stdout",
     "output_type": "stream",
     "text": [
      "[{'weights': [0.13436424411240122, 0.8474337369372327, 0.763774618976614]}]\n",
      "[{'weights': [0.2550690257394217, 0.49543508709194095]}, {'weights': [0.4494910647887381, 0.651592972722763]}]\n"
     ]
    }
   ],
   "source": [
    "from random import seed\n",
    "from random import random\n",
    "\n",
    "#initialize a network\n",
    "def initialize_network(n_inputs, n_hidden, n_outputs):\n",
    "    network=list()\n",
    "    hidden_layer=[{'weights':[random() for i in range(n_inputs+1)]} for i in range(n_hidden)]\n",
    "    network.append(hidden_layer)\n",
    "    output_layer=[{'weights':[random() for i in range(n_hidden+1)]} for i in range(n_outputs)]\n",
    "    network.append(output_layer)\n",
    "    return network\n",
    "\n",
    "seed(1)\n",
    "network=initialize_network(2, 1, 2)\n",
    "for layer in network:\n",
    "    print(layer)"
   ]
  },
  {
   "cell_type": "code",
   "execution_count": 5,
   "id": "70331e4a",
   "metadata": {},
   "outputs": [],
   "source": [
    "def activate(weights, inputs):\n",
    "    activation=weights[-1]\n",
    "    for i in range(len(weights)-1):\n",
    "        activation+=weights[i]*inputs[i]\n",
    "        return activation"
   ]
  },
  {
   "cell_type": "code",
   "execution_count": 6,
   "id": "6b043ef4",
   "metadata": {},
   "outputs": [],
   "source": [
    "def transfer(activation):\n",
    "    return 1.0/(1.0+exp(-activation))"
   ]
  },
  {
   "cell_type": "code",
   "execution_count": 13,
   "id": "37dc384e",
   "metadata": {},
   "outputs": [],
   "source": [
    "#Forward proprogate \n",
    "def forward_propogate(network, row):\n",
    "    inputs=row\n",
    "    for layer in network:\n",
    "        new_inputs=[]\n",
    "        for neuron in layer:\n",
    "            activation=activate(neuron['weights'], inputs)\n",
    "            neuron['output']=transfer(activation)\n",
    "            new_inputs.append(neuron['output'])\n",
    "        inputs=new_inputs\n",
    "    return inputs"
   ]
  },
  {
   "cell_type": "code",
   "execution_count": 15,
   "id": "e495dee6",
   "metadata": {},
   "outputs": [
    {
     "name": "stdout",
     "output_type": "stream",
     "text": [
      "[0.6629970129852887, 0.7253160725279748]\n"
     ]
    }
   ],
   "source": [
    "from math import exp\n",
    "network = [[{'weights': [0.13436424411240122, 0.8474337369372327, 0.763774618976614]}],\n",
    " [{'weights': [0.2550690257394217, 0.49543508709194095]}, {'weights': [0.4494910647887381, 0.651592972722763]}]]\n",
    "row=[1,0,None]\n",
    "output=forward_propogate(network, row)\n",
    "print(output)"
   ]
  },
  {
   "cell_type": "code",
   "execution_count": 16,
   "id": "9bf2cf08",
   "metadata": {},
   "outputs": [],
   "source": [
    "#calculate the derivative\n",
    "def transfer_derivative(output):\n",
    "    return output*(1.0-output)"
   ]
  },
  {
   "cell_type": "code",
   "execution_count": null,
   "id": "abc5875f",
   "metadata": {},
   "outputs": [],
   "source": [
    "error=(weight_k*error_j)*transfer_derivative(output)"
   ]
  },
  {
   "cell_type": "code",
   "execution_count": 17,
   "id": "1c715f1b",
   "metadata": {},
   "outputs": [],
   "source": [
    "#backpropagate\n",
    "def backward_propagate_error(network, expected):\n",
    "    for i in reversed(range(len(network))):\n",
    "        layer=network[i]\n",
    "        error=list()\n",
    "        if i != len(network)-1:\n",
    "            for j in range(len(layer)):\n",
    "                error=0.0\n",
    "                for neuron in network[i+1]:\n",
    "                    error+=(neuron['weights'][j]*neuron['delta'])\n",
    "                    error.append(error)\n",
    "        else:\n",
    "            for j in range(len(layer)):\n",
    "                neuron=layer[j]\n",
    "                error.append(neuron['output']-expected[j])\n",
    "                for j in range(len(layer)):\n",
    "                    neuron=layer[j]\n",
    "    neuron['delta']=error[j]*transfer_derivative(neuron['output'])"
   ]
  },
  {
   "cell_type": "code",
   "execution_count": null,
   "id": "9a8d6e93",
   "metadata": {},
   "outputs": [],
   "source": [
    "g"
   ]
  }
 ],
 "metadata": {
  "kernelspec": {
   "display_name": "Python 3 (ipykernel)",
   "language": "python",
   "name": "python3"
  },
  "language_info": {
   "codemirror_mode": {
    "name": "ipython",
    "version": 3
   },
   "file_extension": ".py",
   "mimetype": "text/x-python",
   "name": "python",
   "nbconvert_exporter": "python",
   "pygments_lexer": "ipython3",
   "version": "3.11.5"
  }
 },
 "nbformat": 4,
 "nbformat_minor": 5
}
